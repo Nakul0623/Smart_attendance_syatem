{
 "cells": [
  {
   "cell_type": "code",
   "execution_count": 1,
   "id": "690022e7",
   "metadata": {},
   "outputs": [
    {
     "name": "stdout",
     "output_type": "stream",
     "text": [
      "90 face encodings saved to 'face_encodings.npy'.\n"
     ]
    }
   ],
   "source": [
    "import face_recognition\n",
    "import numpy as np\n",
    "import os\n",
    "\n",
    "# Specify the directory containing the images\n",
    "image_directory = 'encodings'\n",
    "\n",
    "# Initialize a list to store face encodings\n",
    "face_encodings = []\n",
    "\n",
    "# Loop through all files in the image directory\n",
    "for filename in os.listdir(image_directory):\n",
    "    if filename.lower().endswith(('.jpg', '.jpeg', '.png')):\n",
    "        # Load each image file\n",
    "        image_path = os.path.join(image_directory, filename)\n",
    "        image = face_recognition.load_image_file(image_path)\n",
    "\n",
    "        # Extract face encodings (if a face is found)\n",
    "        face_encoding = face_recognition.face_encodings(image)\n",
    "        if len(face_encoding) > 0:\n",
    "            # Append the first face encoding (assuming only one face per image)\n",
    "            face_encodings.append(face_encoding[0])\n",
    "\n",
    "# Check if any face encodings were collected\n",
    "if len(face_encodings) == 0:\n",
    "    print(\"No face encodings found in the directory.\")\n",
    "else:\n",
    "    # Convert the list of face encodings to a NumPy array\n",
    "    face_encodings_array = np.array(face_encodings)\n",
    "\n",
    "    # Save face encodings as a .npy file\n",
    "    np.save('face_encodings.npy', face_encodings_array)\n",
    "\n",
    "    print(f\"{len(face_encodings)} face encodings saved to 'face_encodings.npy'.\")\n"
   ]
  },
  {
   "cell_type": "code",
   "execution_count": null,
   "id": "53350ca0",
   "metadata": {},
   "outputs": [],
   "source": []
  }
 ],
 "metadata": {
  "kernelspec": {
   "display_name": "Python 3 (ipykernel)",
   "language": "python",
   "name": "python3"
  },
  "language_info": {
   "codemirror_mode": {
    "name": "ipython",
    "version": 3
   },
   "file_extension": ".py",
   "mimetype": "text/x-python",
   "name": "python",
   "nbconvert_exporter": "python",
   "pygments_lexer": "ipython3",
   "version": "3.11.4"
  }
 },
 "nbformat": 4,
 "nbformat_minor": 5
}
