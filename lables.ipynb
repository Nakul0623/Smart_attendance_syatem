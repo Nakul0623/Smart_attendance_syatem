{
 "cells": [
  {
   "cell_type": "code",
   "execution_count": 1,
   "id": "a6b494ee",
   "metadata": {},
   "outputs": [
    {
     "name": "stdout",
     "output_type": "stream",
     "text": [
      "90 labels saved to 'labels/labels.npy'.\n"
     ]
    }
   ],
   "source": [
    "import numpy as np\n",
    "import os\n",
    "\n",
    "# Specify the directory containing the images and corresponding labels\n",
    "image_directory = 'encodings'  # Directory containing face images\n",
    "label_directory = 'labels'     # Directory containing label files\n",
    "\n",
    "# Initialize a list to store labels\n",
    "labels = []\n",
    "\n",
    "# Loop through all files in the image directory\n",
    "for filename in os.listdir(image_directory):\n",
    "    if filename.lower().endswith(('.jpg', '.jpeg', '.png')):\n",
    "        # Extract the label from the filename (e.g., assuming filenames like \"person_A.jpg\")\n",
    "        label = filename.split('_')[0]  # Assumes labels are at the beginning of the filename\n",
    "        labels.append(label)\n",
    "\n",
    "# Check if any labels were collected\n",
    "if len(labels) == 0:\n",
    "    print(\"No labels found in the directory.\")\n",
    "else:\n",
    "    # Convert the list of labels to a NumPy array\n",
    "    labels_array = np.array(labels)\n",
    "\n",
    "    # Save labels as a .npy file\n",
    "    np.save(os.path.join(label_directory, 'labels.npy'), labels_array)\n",
    "\n",
    "    print(f\"{len(labels)} labels saved to 'labels/labels.npy'.\")\n"
   ]
  },
  {
   "cell_type": "code",
   "execution_count": null,
   "id": "364e6ca6",
   "metadata": {},
   "outputs": [],
   "source": []
  }
 ],
 "metadata": {
  "kernelspec": {
   "display_name": "Python 3 (ipykernel)",
   "language": "python",
   "name": "python3"
  },
  "language_info": {
   "codemirror_mode": {
    "name": "ipython",
    "version": 3
   },
   "file_extension": ".py",
   "mimetype": "text/x-python",
   "name": "python",
   "nbconvert_exporter": "python",
   "pygments_lexer": "ipython3",
   "version": "3.11.4"
  }
 },
 "nbformat": 4,
 "nbformat_minor": 5
}
